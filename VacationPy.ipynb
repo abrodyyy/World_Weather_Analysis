{
 "cells": [
  {
   "cell_type": "code",
   "execution_count": 1,
   "metadata": {},
   "outputs": [
    {
     "ename": "ModuleNotFoundError",
     "evalue": "No module named 'gmaps'",
     "output_type": "error",
     "traceback": [
      "\u001b[0;31m---------------------------------------------------------------------------\u001b[0m",
      "\u001b[0;31mModuleNotFoundError\u001b[0m                       Traceback (most recent call last)",
      "Input \u001b[0;32mIn [1]\u001b[0m, in \u001b[0;36m<cell line: 3>\u001b[0;34m()\u001b[0m\n\u001b[1;32m      1\u001b[0m \u001b[38;5;66;03m# Import the dependencies.\u001b[39;00m\n\u001b[1;32m      2\u001b[0m \u001b[38;5;28;01mimport\u001b[39;00m \u001b[38;5;21;01mpandas\u001b[39;00m \u001b[38;5;28;01mas\u001b[39;00m \u001b[38;5;21;01mpd\u001b[39;00m\n\u001b[0;32m----> 3\u001b[0m \u001b[38;5;28;01mimport\u001b[39;00m \u001b[38;5;21;01mgmaps\u001b[39;00m\n\u001b[1;32m      4\u001b[0m \u001b[38;5;28;01mimport\u001b[39;00m \u001b[38;5;21;01mrequests\u001b[39;00m\n\u001b[1;32m      6\u001b[0m \u001b[38;5;66;03m# Import the API key.\u001b[39;00m\n",
      "\u001b[0;31mModuleNotFoundError\u001b[0m: No module named 'gmaps'"
     ]
    }
   ],
   "source": [
    "# Import the dependencies.\n",
    "import pandas as pd\n",
    "import gmaps\n",
    "import requests\n",
    "\n",
    "# Import the API key.\n",
    "from config import geoapify_key"
   ]
  },
  {
   "cell_type": "code",
   "execution_count": 1,
   "metadata": {},
   "outputs": [],
   "source": [
    "# Turn off warning messages\n",
    "import warnings\n",
    "warnings.filterwarnings(\"ignore\")"
   ]
  },
  {
   "cell_type": "code",
   "execution_count": null,
   "metadata": {},
   "outputs": [],
   "source": [
    "# Store the CSV you saved created in part one into a DataFrame.\n",
    "city_data_df = pd.read_csv(\"weather_data/cities.csv\")\n",
    "city_data_df.head()"
   ]
  },
  {
   "cell_type": "code",
   "execution_count": null,
   "metadata": {},
   "outputs": [],
   "source": [
    "# Get the data types. \n",
    "city_data_df.dtypes"
   ]
  },
  {
   "cell_type": "code",
   "execution_count": null,
   "metadata": {},
   "outputs": [],
   "source": [
    "# Configure the map plot_1\n",
    "map_plot_1 = city_data_df.hvplot.points(\n",
    "    \"Lng\",\n",
    "    \"Lat\",\n",
    "    geo = True,\n",
    "    tiles = \"OSM\"\n",
    ")\n",
    "# Display the map plot_1\n",
    "map_plot_1"
   ]
  },
  {
   "cell_type": "code",
   "execution_count": null,
   "metadata": {},
   "outputs": [],
   "source": [
    "# Configure the map plot_2\n",
    "map_plot_2 = city_data_df.hvplot.points(\n",
    "    \"Lng\",\n",
    "    \"Lat\",\n",
    "    geo = True,\n",
    "    tiles = \"OSM\",\n",
    "    frame_width = 700,\n",
    "    frame_height = 500\n",
    ")\n",
    "\n",
    "# Display the map plot\n",
    "map_plot_2"
   ]
  },
  {
   "cell_type": "code",
   "execution_count": null,
   "metadata": {},
   "outputs": [],
   "source": [
    "# Configure the map plot_3\n",
    "map_plot_3 = city_data_df.hvplot.points(\n",
    "    \"Lng\",\n",
    "    \"Lat\",\n",
    "    geo = True,\n",
    "    tiles = \"OSM\",\n",
    "    frame_width = 700,\n",
    "    frame_height = 500,\n",
    "    size = \"Max Temp\",\n",
    "    scale = 0.5,\n",
    "    color = \"City\"\n",
    ")\n",
    "\n",
    "# Display the map plot\n",
    "map_plot_3"
   ]
  },
  {
   "cell_type": "code",
   "execution_count": null,
   "metadata": {},
   "outputs": [],
   "source": [
    "# Configure the map plot_4\n",
    "map_plot_4 = city_data_df.hvplot.points(\n",
    "    \"Lng\",\n",
    "    \"Lat\",\n",
    "    geo = True,\n",
    "    tiles = \"EsriNatGeo\",\n",
    "    frame_width = 700,\n",
    "    frame_height = 500,\n",
    "    size = \"Max Temp\",\n",
    "    scale = 0.5,\n",
    "    color = \"City\"\n",
    ")\n",
    "\n",
    "# Display the map plot\n",
    "map_plot_4"
   ]
  },
  {
   "cell_type": "code",
   "execution_count": null,
   "metadata": {},
   "outputs": [],
   "source": [
    "# Configure gmaps to use your Google API key\n",
    "gmaps.configure(api_key=g_key)"
   ]
  },
  {
   "cell_type": "code",
   "execution_count": null,
   "metadata": {},
   "outputs": [],
   "source": [
    "# Heatmap of temperature\n",
    "# Get the latitude and longitude.\n",
    "locations = city_data_df[[\"Lat\", \"Lng\"]]\n",
    "\n",
    "# Get the maximum temperature.\n",
    "max_temp = city_data_df[\"Max Temp\"]\n",
    "\n",
    "# Assign the figure variable.\n",
    "fig = gmaps.figure(center=(30.0, 31.0), zoom_level= 1.5)\n",
    "\n",
    "# Assign the heatmap variable.\n",
    "# remove negative temperatures bc can't be graphed \n",
    "heat_layer = gmaps.heatmap_layer(locations, weights= [max(temp, 0) for temp in max_temp], \n",
    "                                 dissipating= False, max_intensity= 300, point_radius= 4)\n",
    "\n",
    "#Add the heatmap layer.\n",
    "fig.add_layer(heat_layer)\n",
    "\n",
    "# Call the figure to plot the data.\n",
    "fig "
   ]
  },
  {
   "cell_type": "code",
   "execution_count": null,
   "metadata": {},
   "outputs": [],
   "source": [
    "# Heatmap of percent humidity \n",
    "locations = city_data_df[[\"Lat\", \"Lng\"]]\n",
    "humidity = city_data_df[\"Humidity\"]\n",
    "\n",
    "fig= gmaps.figure(center=(30.0, 31.0), zoom_level= 1.5)\n",
    "\n",
    "heat_layer = gmaps.heatmap_layer(locations, weights= humidity, \n",
    "                                 dissipating= False, max_intensity= 300, point_radius= 4)\n",
    "fig.add_layer(heat_layer)\n",
    "\n",
    "# Call the figure to plot the data\n",
    "fig"
   ]
  },
  {
   "cell_type": "code",
   "execution_count": null,
   "metadata": {},
   "outputs": [],
   "source": [
    "# Heatmap of percent cloudiness\n",
    "locations = city_data_df[[\"Lat\", \"Lng\"]]\n",
    "clouds = city_data_df[\"Cloudiness\"]\n",
    "\n",
    "fig= gmaps.figure(center=(30.0, 31.0), zoom_level= 1.5)\n",
    "heat_layer = gmaps.heatmap_layer(locations, weights= clouds, \n",
    "                                 dissipating= False, max_intensity= 300, point_radius= 4)\n",
    "fig.add_layer(heat_layer)\n",
    "\n",
    "# Call the figure to plot the data\n",
    "fig"
   ]
  },
  {
   "cell_type": "code",
   "execution_count": null,
   "metadata": {},
   "outputs": [],
   "source": [
    "# Heatmap of percent wind speed \n",
    "locations = city_data_df[[\"Lat\", \"Lng\"]]\n",
    "wind = city_data_df[\"Wind Speed\"]\n",
    "\n",
    "fig= gmaps.figure(center=(30.0, 31.0), zoom_level= 1.5)\n",
    "\n",
    "heat_layer = gmaps.heatmap_layer(locations, weights= wind, \n",
    "                                 dissipating= False, max_intensity= 300, point_radius= 4)\n",
    "\n",
    "fig.add_layer(heat_layer)\n",
    "\n",
    "# Call the figure to plot the data\n",
    "fig"
   ]
  },
  {
   "cell_type": "code",
   "execution_count": null,
   "metadata": {},
   "outputs": [],
   "source": [
    "# Ask the customer to add a minimum and maximum temperature value.\n",
    "min_temp = float(input(\"What is the minimum temperature you would like for your trip? \"))\n",
    "max_temp = float(input(\"What is the maximum temperature you would like for your trip? \"))"
   ]
  },
  {
   "cell_type": "code",
   "execution_count": null,
   "metadata": {},
   "outputs": [],
   "source": [
    "preferred_cities_df = city_data_df.loc[\n",
    "    (city_data_df[\"Max Temp\"] <= max_temp) & (city_data_df[\"Max Temp\"] >= min_temp)\n",
    "]\n",
    "preferred_cities_df.head(10)"
   ]
  },
  {
   "cell_type": "code",
   "execution_count": null,
   "metadata": {},
   "outputs": [],
   "source": [
    "preferred_cities_df.count()"
   ]
  },
  {
   "cell_type": "code",
   "execution_count": null,
   "metadata": {},
   "outputs": [],
   "source": [
    "# Create DataFrame called hotel_df to store hotel names along with city, country, max temp, and coordinates.\n",
    "hotel_df = preferred_cities_df[[\"City\", \"Country\", \"Max Temp\", \"Lat\", \"Lng\"]].copy()\n",
    "hotel_df[\"Hotel Name\"] = \"\"\n",
    "hotel_df.head(10)"
   ]
  },
  {
   "cell_type": "code",
   "execution_count": null,
   "metadata": {},
   "outputs": [],
   "source": [
    "# Set initial parameters to search for a hotel.\n",
    "radius = 5000\n",
    "params = {\n",
    "    \"categories\":\"accommodation.hotel\",\n",
    "    \"apiKey\": geoapify_key,\n",
    "}"
   ]
  },
  {
   "cell_type": "code",
   "execution_count": null,
   "metadata": {},
   "outputs": [],
   "source": [
    "# Import the required libraries\n",
    "import requests\n",
    "\n",
    "# Import API key\n",
    "from config import geoapify_key"
   ]
  },
  {
   "cell_type": "code",
   "execution_count": null,
   "metadata": {},
   "outputs": [],
   "source": [
    "# Set the parameters to search for a hotel in Paris.\n",
    "latitude = 48.8566\n",
    "longitude = 2.3522\n",
    "radius = 5000\n",
    "params = {\n",
    "    \"categories\": \"accommodation.hotel\",\n",
    "    \"apiKey\": geoapify_key,\n",
    "    \"filter\": f\"circle:{longitude},{latitude},{radius}\"\n",
    "}\n",
    "\n",
    "# Set up the base URL for the Geoapify Places API.\n",
    "base_url = \"https://api.geoapify.com/v2/places\"\n",
    "\n",
    "# Make request and retrieve the JSON data by using the params dictionary\n",
    "hotels = requests.get(base_url, params=params).json()\n",
    "\n",
    "# Display the JSON data\n",
    "hotels"
   ]
  },
  {
   "cell_type": "code",
   "execution_count": null,
   "metadata": {},
   "outputs": [],
   "source": [
    "# Iterate through the hotel_df DataFrame\n",
    "for index, row in hotel_df.iterrows():\n",
    "    # Get latitude and longitude from DataFrame.\n",
    "    latitude = row[\"Lat\"]\n",
    "    longitude = row[\"Lng\"]\n",
    "\n",
    "    # Add the current city's latitude and longitude to the params dictionary\n",
    "    params[\"filter\"] = f\"circle:{longitude},{latitude},{radius}\"\n",
    "\n",
    "    # Set up the base URL for the Geoapify Places API.\n",
    "    base_url = \"https://api.geoapify.com/v2/places\"\n",
    "\n",
    "    # Make request and retrieve the JSON data by using the params dictionary\n",
    "    name_address = requests.get(base_url, params=params)\n",
    "\n",
    "    # Convert the API response to JSON format\n",
    "    name_address = name_address.json()\n",
    "\n",
    "    # Get the first hotel from the results and store the name\n",
    "    hotel_df.loc[index, \"Hotel Name\"] = name_address[\"features\"][0][\"properties\"][\"name\"]"
   ]
  },
  {
   "cell_type": "code",
   "execution_count": null,
   "metadata": {},
   "outputs": [],
   "source": [
    "# Configure the map\n",
    "hotel_map = hotel_df.hvplot.points(\n",
    "    \"Lng\",\n",
    "    \"Lat\",\n",
    "    geo = True,\n",
    "    tiles = \"OSM\",\n",
    "    frame_width = 700,\n",
    "    frame_height = 500,\n",
    "    size = \"Max Temp\",\n",
    "    scale = 1,\n",
    "    color = \"City\"\n",
    ")\n",
    "\n",
    "# Display the map plot\n",
    "hotel_map"
   ]
  },
  {
   "cell_type": "code",
   "execution_count": null,
   "metadata": {},
   "outputs": [],
   "source": [
    "# Configure the map\n",
    "hotel_map = hotel_df.hvplot.points(\n",
    "    \"Lng\",\n",
    "    \"Lat\",\n",
    "    geo = True,\n",
    "    tiles = \"OSM\",\n",
    "    frame_width = 700,\n",
    "    frame_height = 500,\n",
    "    size = \"Max Temp\",\n",
    "    scale = 1,\n",
    "    color = \"City\",\n",
    "    hover_cols = [\"Hotel Name\", \"Country\"]\n",
    ")\n",
    "\n",
    "# Display the map plot\n",
    "hotel_map"
   ]
  },
  {
   "cell_type": "code",
   "execution_count": null,
   "metadata": {},
   "outputs": [],
   "source": [
    "The environment is inconsistent, please check the package plan carefully\n",
    "The following packages are causing the inconsistency:\n",
    "\n",
    "  - defaults/osx-arm64::contourpy==1.0.5=py39h525c30c_0\n",
    "  - pyviz/noarch::geoviews==1.9.6=py_0\n",
    "  - defaults/osx-arm64::numpy==1.23.5=py39h1398885_0\n",
    "  - defaults/osx-arm64::cftime==1.5.1.1=py39heec5a64_0\n",
    "  - defaults/osx-arm64::scipy==1.9.3=py39h9d039d2_0\n",
    "  - defaults/osx-arm64::xarray==2022.11.0=py39hca03da5_0\n",
    "  - defaults/osx-arm64::netcdf4==1.6.2=py39h053bab8_0\n",
    "  - defaults/osx-arm64::bokeh==2.4.3=py39hca03da5_0\n",
    "  - defaults/noarch::geopandas-base==0.9.0=py_1\n",
    "  - defaults/osx-arm64::matplotlib==3.6.2=py39hca03da5_0\n",
    "  - defaults/osx-arm64::shapely==1.8.4=py39ha5c1773_0\n",
    "  - defaults/osx-arm64::panel==0.14.2=py39hca03da5_0\n",
    "  - defaults/osx-arm64::holoviews==1.15.3=py39hca03da5_0\n",
    "  - defaults/osx-arm64::bottleneck==1.3.5=py39heec5a64_0\n",
    "  - defaults/osx-arm64::cartopy==0.19.0.post1=py39h56a4025_0\n",
    "  - defaults/osx-arm64::matplotlib-base==3.6.2=py39h8bbb115_0\n",
    "  - defaults/osx-arm64::datashape==0.5.4=py39hca03da5_1\n",
    "  - defaults/osx-arm64::numexpr==2.8.4=py39h79ee842_0\n",
    "  - defaults/osx-arm64::datashader==0.14.3=py39hca03da5_0\n",
    "  - pyviz/noarch::geoviews-core==1.9.6=py_0\n",
    "  - defaults/osx-arm64::numba==0.56.4=py39h78102c4_0\n",
    "  - defaults/osx-arm64::hvplot==0.8.2=py39hca03da5_0\n",
    "failed with initial frozen solve. Retrying with flexible solve."
   ]
  }
 ],
 "metadata": {
  "kernelspec": {
   "display_name": "PythonData",
   "language": "python",
   "name": "pythondata"
  },
  "language_info": {
   "codemirror_mode": {
    "name": "ipython",
    "version": 3
   },
   "file_extension": ".py",
   "mimetype": "text/x-python",
   "name": "python",
   "nbconvert_exporter": "python",
   "pygments_lexer": "ipython3",
   "version": "3.9.12"
  }
 },
 "nbformat": 4,
 "nbformat_minor": 4
}
